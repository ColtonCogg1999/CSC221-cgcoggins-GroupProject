{
 "cells": [
  {
   "cell_type": "code",
   "execution_count": 1,
   "id": "bc1df886",
   "metadata": {},
   "outputs": [],
   "source": [
    "# Import libraries necessary for Webscraping and working with CSV Files\n",
    "import requests\n",
    "from bs4 import BeautifulSoup\n",
    "import pandas as pd"
   ]
  },
  {
   "cell_type": "code",
   "execution_count": 2,
   "id": "8a545c82",
   "metadata": {},
   "outputs": [],
   "source": [
    "# Define the URL of the Wikipedia page\n",
    "url = \"https://en.wikipedia.org/wiki/List_of_Nobel_laureates_in_Literature\"\n",
    "\n",
    "# Send a GET request to fetch the contents of the page\n",
    "response = requests.get(url)\n",
    "\n",
    "# Parse the page content using BeautifulSoup\n",
    "soup = BeautifulSoup(response.content, 'html.parser')"
   ]
  },
  {
   "cell_type": "code",
   "execution_count": 3,
   "id": "a9b932ca",
   "metadata": {},
   "outputs": [],
   "source": [
    "# BeautifulSoup to find the table containing the data\n",
    "table = soup.find('table', {'class': 'wikitable'})"
   ]
  },
  {
   "cell_type": "code",
   "execution_count": 4,
   "id": "432c73af",
   "metadata": {},
   "outputs": [],
   "source": [
    "# Create list to store data extracted from the table\n",
    "data = []"
   ]
  },
  {
   "cell_type": "code",
   "execution_count": 5,
   "id": "45801a1a",
   "metadata": {},
   "outputs": [],
   "source": [
    "# Loop through each row of the table (except the header row)\n",
    "for row in table.find_all('tr')[1:]:  # [1:] skips the header row\n",
    "    # Extract all cells (columns) in the current row\n",
    "    cells = row.find_all(['th', 'td'])\n",
    "    \n",
    "    # Skip rows with no data\n",
    "    if len(cells) == 0:\n",
    "        continue\n",
    "\n",
    "    # Extract the year from the first cell\n",
    "    year_cell = cells[0]\n",
    "    year_link = year_cell.find('a')  # Some years have links\n",
    "    year = year_link.text.strip() if year_link else year_cell.text.strip()\n",
    "\n",
    "    # Handle cases where a year spans multiple laureates (rowspan attribute)\n",
    "    rowspan = int(year_cell.get('rowspan', 1))\n",
    "\n",
    "    # Extract other details like laureate name, country, language, citation, and genres\n",
    "    laureate = cells[2].get_text(strip=True) if len(cells) > 2 else \"N/A\"\n",
    "    country = cells[3].get_text(strip=True) if len(cells) > 3 else \"N/A\"\n",
    "    language = cells[4].get_text(strip=True) if len(cells) > 4 else \"N/A\"\n",
    "    citation = cells[5].get_text(strip=True) if len(cells) > 5 else \"N/A\"\n",
    "    genres = cells[6].get_text(strip=True) if len(cells) > 6 else \"N/A\"\n",
    "\n",
    "    # Append the extracted data to the list\n",
    "    data.append([year, laureate, country, language, citation, genres])\n",
    "\n",
    "    # Process additional rows in cases where there are multiple laureates (rowspan)\n",
    "    for _ in range(rowspan - 1):\n",
    "        # Move to the next row and extract data in the same manner\n",
    "        next_row = row.find_next_sibling('tr')\n",
    "        row = next_row\n",
    "        next_cells = row.find_all(['th', 'td'])\n",
    "\n",
    "        laureate = next_cells[1].get_text(strip=True) if len(next_cells) > 1 else \"N/A\"\n",
    "        country = next_cells[2].get_text(strip=True) if len(next_cells) > 2 else \"N/A\"\n",
    "        language = next_cells[3].get_text(strip=True) if len(next_cells) > 3 else \"N/A\"\n",
    "        citation = next_cells[4].get_text(strip=True) if len(next_cells) > 4 else \"N/A\"\n",
    "        genres = next_cells[5].get_text(strip=True) if len(next_cells) > 5 else \"N/A\"\n",
    "\n",
    "        data.append([year, laureate, country, language, citation, genres])"
   ]
  },
  {
   "cell_type": "code",
   "execution_count": 6,
   "id": "ad64c2b5",
   "metadata": {},
   "outputs": [],
   "source": [
    "# Create a DataFrame to organize the data\n",
    "df = pd.DataFrame(data, columns=[\"Year\", \"Laureate\", \"Country\", \"Language\", \"Citation\", \"Genres\"])"
   ]
  },
  {
   "cell_type": "code",
   "execution_count": 7,
   "id": "57cafd13",
   "metadata": {},
   "outputs": [
    {
     "name": "stdout",
     "output_type": "stream",
     "text": [
      "Data has been successfully saved to nobel_laureates_literature.csv.\n"
     ]
    }
   ],
   "source": [
    "# Define the file name for the CSV\n",
    "csv_file = \"nobel_laureates_literature.csv\"\n",
    "\n",
    "# Save the DataFrame to a CSV file\n",
    "df.to_csv(csv_file, index=False, encoding='utf-8')\n",
    "\n",
    "# Print a success message\n",
    "print(f\"Data has been successfully saved to {csv_file}.\")"
   ]
  }
 ],
 "metadata": {
  "kernelspec": {
   "display_name": "Python 3 (ipykernel)",
   "language": "python",
   "name": "python3"
  },
  "language_info": {
   "codemirror_mode": {
    "name": "ipython",
    "version": 3
   },
   "file_extension": ".py",
   "mimetype": "text/x-python",
   "name": "python",
   "nbconvert_exporter": "python",
   "pygments_lexer": "ipython3",
   "version": "3.11.5"
  }
 },
 "nbformat": 4,
 "nbformat_minor": 5
}
